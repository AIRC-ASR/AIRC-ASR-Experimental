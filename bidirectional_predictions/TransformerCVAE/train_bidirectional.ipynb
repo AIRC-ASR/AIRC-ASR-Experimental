{
 "cells": [
  {
   "cell_type": "code",
   "execution_count": 7,
   "metadata": {},
   "outputs": [
    {
     "name": "stdout",
     "output_type": "stream",
     "text": [
      "mkdir: cannot create directory ‘repo’: File exists\n",
      "fatal: destination path 'repo' already exists and is not an empty directory.\n",
      "/home/matthew/Documents/pgrm/AIRC-ASR-Experimental/bidirectional_predictions/TransformerCVAE\n",
      "data\t\t    generate.py  repo\t\t\t    tsne_plot.py\n",
      "dist_utils.py\t    ideas.txt\t train_bidirectional.ipynb  Untitled.ipynb\n",
      "eval_ppl_prefix.py  model.py\t train_bidirectional.py     util.py\n",
      "eval_ppl.py\t    out\t\t train_dist_half.py\n",
      "examples.py\t    __pycache__  train_dist.py\n",
      "generate_prefix.py  README.md\t train.py\n",
      "Requirement already satisfied: torch in /home/matthew/Documents/pgrm/AIRC-ASR-Experimental/venv/lib/python3.10/site-packages (from -r ./repo/requirements.txt (line 1)) (1.13.1)\n",
      "Requirement already satisfied: numpy in /home/matthew/Documents/pgrm/AIRC-ASR-Experimental/venv/lib/python3.10/site-packages (from -r ./repo/requirements.txt (line 2)) (1.24.2)\n",
      "Requirement already satisfied: transformers in /home/matthew/Documents/pgrm/AIRC-ASR-Experimental/venv/lib/python3.10/site-packages (from -r ./repo/requirements.txt (line 3)) (4.26.0)\n",
      "Requirement already satisfied: tensorboardX in /home/matthew/Documents/pgrm/AIRC-ASR-Experimental/venv/lib/python3.10/site-packages (from -r ./repo/requirements.txt (line 4)) (2.5.1)\n",
      "Requirement already satisfied: nltk in /home/matthew/Documents/pgrm/AIRC-ASR-Experimental/venv/lib/python3.10/site-packages (from -r ./repo/requirements.txt (line 5)) (3.8.1)\n",
      "Requirement already satisfied: rouge in /home/matthew/Documents/pgrm/AIRC-ASR-Experimental/venv/lib/python3.10/site-packages (from -r ./repo/requirements.txt (line 6)) (1.0.1)\n",
      "Requirement already satisfied: sklearn in /home/matthew/Documents/pgrm/AIRC-ASR-Experimental/venv/lib/python3.10/site-packages (from -r ./repo/requirements.txt (line 7)) (0.0.post1)\n",
      "Requirement already satisfied: matplotlib in /home/matthew/Documents/pgrm/AIRC-ASR-Experimental/venv/lib/python3.10/site-packages (from -r ./repo/requirements.txt (line 8)) (3.6.3)\n",
      "Requirement already satisfied: Unidecode in /home/matthew/Documents/pgrm/AIRC-ASR-Experimental/venv/lib/python3.10/site-packages (from -r ./repo/requirements.txt (line 9)) (1.3.6)\n",
      "Requirement already satisfied: rake_nltk in /home/matthew/Documents/pgrm/AIRC-ASR-Experimental/venv/lib/python3.10/site-packages (from -r ./repo/requirements.txt (line 10)) (1.0.6)\n",
      "Requirement already satisfied: scipy in /home/matthew/Documents/pgrm/AIRC-ASR-Experimental/venv/lib/python3.10/site-packages (from -r ./repo/requirements.txt (line 11)) (1.10.0)\n",
      "Requirement already satisfied: bert-serving in /home/matthew/Documents/pgrm/AIRC-ASR-Experimental/venv/lib/python3.10/site-packages (from -r ./repo/requirements.txt (line 12)) (0.0.1)\n",
      "Requirement already satisfied: bert-serving-client in /home/matthew/Documents/pgrm/AIRC-ASR-Experimental/venv/lib/python3.10/site-packages (from -r ./repo/requirements.txt (line 13)) (1.10.0)\n",
      "Requirement already satisfied: scikit-learn in /home/matthew/Documents/pgrm/AIRC-ASR-Experimental/venv/lib/python3.10/site-packages (from -r ./repo/requirements.txt (line 14)) (1.2.1)\n",
      "Requirement already satisfied: apex in /home/matthew/Documents/pgrm/AIRC-ASR-Experimental/venv/lib/python3.10/site-packages (from -r ./repo/requirements.txt (line 15)) (0.9.10.dev0)\n",
      "Requirement already satisfied: nvidia-cublas-cu11==11.10.3.66 in /home/matthew/Documents/pgrm/AIRC-ASR-Experimental/venv/lib/python3.10/site-packages (from torch->-r ./repo/requirements.txt (line 1)) (11.10.3.66)\n",
      "Requirement already satisfied: typing-extensions in /home/matthew/Documents/pgrm/AIRC-ASR-Experimental/venv/lib/python3.10/site-packages (from torch->-r ./repo/requirements.txt (line 1)) (4.4.0)\n",
      "Requirement already satisfied: nvidia-cudnn-cu11==8.5.0.96 in /home/matthew/Documents/pgrm/AIRC-ASR-Experimental/venv/lib/python3.10/site-packages (from torch->-r ./repo/requirements.txt (line 1)) (8.5.0.96)\n",
      "Requirement already satisfied: nvidia-cuda-runtime-cu11==11.7.99 in /home/matthew/Documents/pgrm/AIRC-ASR-Experimental/venv/lib/python3.10/site-packages (from torch->-r ./repo/requirements.txt (line 1)) (11.7.99)\n",
      "Requirement already satisfied: nvidia-cuda-nvrtc-cu11==11.7.99 in /home/matthew/Documents/pgrm/AIRC-ASR-Experimental/venv/lib/python3.10/site-packages (from torch->-r ./repo/requirements.txt (line 1)) (11.7.99)\n",
      "Requirement already satisfied: wheel in /home/matthew/Documents/pgrm/AIRC-ASR-Experimental/venv/lib/python3.10/site-packages (from nvidia-cublas-cu11==11.10.3.66->torch->-r ./repo/requirements.txt (line 1)) (0.38.4)\n",
      "Requirement already satisfied: setuptools in /home/matthew/Documents/pgrm/AIRC-ASR-Experimental/venv/lib/python3.10/site-packages (from nvidia-cublas-cu11==11.10.3.66->torch->-r ./repo/requirements.txt (line 1)) (65.5.1)\n",
      "Requirement already satisfied: packaging>=20.0 in /home/matthew/Documents/pgrm/AIRC-ASR-Experimental/venv/lib/python3.10/site-packages (from transformers->-r ./repo/requirements.txt (line 3)) (23.0)\n",
      "Requirement already satisfied: tqdm>=4.27 in /home/matthew/Documents/pgrm/AIRC-ASR-Experimental/venv/lib/python3.10/site-packages (from transformers->-r ./repo/requirements.txt (line 3)) (4.64.1)\n",
      "Requirement already satisfied: huggingface-hub<1.0,>=0.11.0 in /home/matthew/Documents/pgrm/AIRC-ASR-Experimental/venv/lib/python3.10/site-packages (from transformers->-r ./repo/requirements.txt (line 3)) (0.12.0)\n",
      "Requirement already satisfied: pyyaml>=5.1 in /home/matthew/Documents/pgrm/AIRC-ASR-Experimental/venv/lib/python3.10/site-packages (from transformers->-r ./repo/requirements.txt (line 3)) (6.0)\n",
      "Requirement already satisfied: requests in /home/matthew/Documents/pgrm/AIRC-ASR-Experimental/venv/lib/python3.10/site-packages (from transformers->-r ./repo/requirements.txt (line 3)) (2.28.2)\n",
      "Requirement already satisfied: filelock in /home/matthew/Documents/pgrm/AIRC-ASR-Experimental/venv/lib/python3.10/site-packages (from transformers->-r ./repo/requirements.txt (line 3)) (3.9.0)\n",
      "Requirement already satisfied: regex!=2019.12.17 in /home/matthew/Documents/pgrm/AIRC-ASR-Experimental/venv/lib/python3.10/site-packages (from transformers->-r ./repo/requirements.txt (line 3)) (2022.10.31)\n",
      "Requirement already satisfied: tokenizers!=0.11.3,<0.14,>=0.11.1 in /home/matthew/Documents/pgrm/AIRC-ASR-Experimental/venv/lib/python3.10/site-packages (from transformers->-r ./repo/requirements.txt (line 3)) (0.13.2)\n",
      "Requirement already satisfied: protobuf<=3.20.1,>=3.8.0 in /home/matthew/Documents/pgrm/AIRC-ASR-Experimental/venv/lib/python3.10/site-packages (from tensorboardX->-r ./repo/requirements.txt (line 4)) (3.20.1)\n",
      "Requirement already satisfied: joblib in /home/matthew/Documents/pgrm/AIRC-ASR-Experimental/venv/lib/python3.10/site-packages (from nltk->-r ./repo/requirements.txt (line 5)) (1.2.0)\n",
      "Requirement already satisfied: click in /home/matthew/Documents/pgrm/AIRC-ASR-Experimental/venv/lib/python3.10/site-packages (from nltk->-r ./repo/requirements.txt (line 5)) (8.1.3)\n",
      "Requirement already satisfied: six in /home/matthew/Documents/pgrm/AIRC-ASR-Experimental/venv/lib/python3.10/site-packages (from rouge->-r ./repo/requirements.txt (line 6)) (1.16.0)\n",
      "Requirement already satisfied: kiwisolver>=1.0.1 in /home/matthew/Documents/pgrm/AIRC-ASR-Experimental/venv/lib/python3.10/site-packages (from matplotlib->-r ./repo/requirements.txt (line 8)) (1.4.4)\n",
      "Requirement already satisfied: pyparsing>=2.2.1 in /home/matthew/Documents/pgrm/AIRC-ASR-Experimental/venv/lib/python3.10/site-packages (from matplotlib->-r ./repo/requirements.txt (line 8)) (3.0.9)\n",
      "Requirement already satisfied: cycler>=0.10 in /home/matthew/Documents/pgrm/AIRC-ASR-Experimental/venv/lib/python3.10/site-packages (from matplotlib->-r ./repo/requirements.txt (line 8)) (0.11.0)\n",
      "Requirement already satisfied: fonttools>=4.22.0 in /home/matthew/Documents/pgrm/AIRC-ASR-Experimental/venv/lib/python3.10/site-packages (from matplotlib->-r ./repo/requirements.txt (line 8)) (4.38.0)\n",
      "Requirement already satisfied: pillow>=6.2.0 in /home/matthew/Documents/pgrm/AIRC-ASR-Experimental/venv/lib/python3.10/site-packages (from matplotlib->-r ./repo/requirements.txt (line 8)) (9.4.0)\n",
      "Requirement already satisfied: contourpy>=1.0.1 in /home/matthew/Documents/pgrm/AIRC-ASR-Experimental/venv/lib/python3.10/site-packages (from matplotlib->-r ./repo/requirements.txt (line 8)) (1.0.7)\n",
      "Requirement already satisfied: python-dateutil>=2.7 in /home/matthew/Documents/pgrm/AIRC-ASR-Experimental/venv/lib/python3.10/site-packages (from matplotlib->-r ./repo/requirements.txt (line 8)) (2.8.2)\n",
      "Requirement already satisfied: pyzmq>=17.1.0 in /home/matthew/Documents/pgrm/AIRC-ASR-Experimental/venv/lib/python3.10/site-packages (from bert-serving-client->-r ./repo/requirements.txt (line 13)) (25.0.0)\n",
      "Requirement already satisfied: threadpoolctl>=2.0.0 in /home/matthew/Documents/pgrm/AIRC-ASR-Experimental/venv/lib/python3.10/site-packages (from scikit-learn->-r ./repo/requirements.txt (line 14)) (3.1.0)\n",
      "Requirement already satisfied: cryptacular in /home/matthew/Documents/pgrm/AIRC-ASR-Experimental/venv/lib/python3.10/site-packages (from apex->-r ./repo/requirements.txt (line 15)) (1.6.2)\n",
      "Requirement already satisfied: wtforms-recaptcha in /home/matthew/Documents/pgrm/AIRC-ASR-Experimental/venv/lib/python3.10/site-packages (from apex->-r ./repo/requirements.txt (line 15)) (0.3.2)\n",
      "Requirement already satisfied: pyramid>1.1.2 in /home/matthew/Documents/pgrm/AIRC-ASR-Experimental/venv/lib/python3.10/site-packages (from apex->-r ./repo/requirements.txt (line 15)) (2.0.1)\n",
      "Requirement already satisfied: velruse>=1.0.3 in /home/matthew/Documents/pgrm/AIRC-ASR-Experimental/venv/lib/python3.10/site-packages (from apex->-r ./repo/requirements.txt (line 15)) (1.1.1)\n",
      "Requirement already satisfied: pyramid-mailer in /home/matthew/Documents/pgrm/AIRC-ASR-Experimental/venv/lib/python3.10/site-packages (from apex->-r ./repo/requirements.txt (line 15)) (0.15.1)\n",
      "Requirement already satisfied: wtforms in /home/matthew/Documents/pgrm/AIRC-ASR-Experimental/venv/lib/python3.10/site-packages (from apex->-r ./repo/requirements.txt (line 15)) (3.0.1)\n",
      "Requirement already satisfied: zope.sqlalchemy in /home/matthew/Documents/pgrm/AIRC-ASR-Experimental/venv/lib/python3.10/site-packages (from apex->-r ./repo/requirements.txt (line 15)) (2.0)\n",
      "Requirement already satisfied: zope.interface>=3.8.0 in /home/matthew/Documents/pgrm/AIRC-ASR-Experimental/venv/lib/python3.10/site-packages (from pyramid>1.1.2->apex->-r ./repo/requirements.txt (line 15)) (5.5.2)\n",
      "Requirement already satisfied: webob>=1.8.3 in /home/matthew/Documents/pgrm/AIRC-ASR-Experimental/venv/lib/python3.10/site-packages (from pyramid>1.1.2->apex->-r ./repo/requirements.txt (line 15)) (1.8.7)\n",
      "Requirement already satisfied: hupper>=1.5 in /home/matthew/Documents/pgrm/AIRC-ASR-Experimental/venv/lib/python3.10/site-packages (from pyramid>1.1.2->apex->-r ./repo/requirements.txt (line 15)) (1.11)\n",
      "Requirement already satisfied: plaster-pastedeploy in /home/matthew/Documents/pgrm/AIRC-ASR-Experimental/venv/lib/python3.10/site-packages (from pyramid>1.1.2->apex->-r ./repo/requirements.txt (line 15)) (1.0.1)\n",
      "Requirement already satisfied: translationstring>=0.4 in /home/matthew/Documents/pgrm/AIRC-ASR-Experimental/venv/lib/python3.10/site-packages (from pyramid>1.1.2->apex->-r ./repo/requirements.txt (line 15)) (1.4)\n",
      "Requirement already satisfied: zope.deprecation>=3.5.0 in /home/matthew/Documents/pgrm/AIRC-ASR-Experimental/venv/lib/python3.10/site-packages (from pyramid>1.1.2->apex->-r ./repo/requirements.txt (line 15)) (4.4.0)\n",
      "Requirement already satisfied: venusian>=1.0 in /home/matthew/Documents/pgrm/AIRC-ASR-Experimental/venv/lib/python3.10/site-packages (from pyramid>1.1.2->apex->-r ./repo/requirements.txt (line 15)) (3.0.0)\n",
      "Requirement already satisfied: plaster in /home/matthew/Documents/pgrm/AIRC-ASR-Experimental/venv/lib/python3.10/site-packages (from pyramid>1.1.2->apex->-r ./repo/requirements.txt (line 15)) (1.1.2)\n",
      "Requirement already satisfied: anykeystore in /home/matthew/Documents/pgrm/AIRC-ASR-Experimental/venv/lib/python3.10/site-packages (from velruse>=1.0.3->apex->-r ./repo/requirements.txt (line 15)) (0.2)\n",
      "Requirement already satisfied: python3-openid in /home/matthew/Documents/pgrm/AIRC-ASR-Experimental/venv/lib/python3.10/site-packages (from velruse>=1.0.3->apex->-r ./repo/requirements.txt (line 15)) (3.2.0)\n",
      "Requirement already satisfied: requests-oauthlib in /home/matthew/Documents/pgrm/AIRC-ASR-Experimental/venv/lib/python3.10/site-packages (from velruse>=1.0.3->apex->-r ./repo/requirements.txt (line 15)) (1.3.1)\n",
      "Requirement already satisfied: pbkdf2 in /home/matthew/Documents/pgrm/AIRC-ASR-Experimental/venv/lib/python3.10/site-packages (from cryptacular->apex->-r ./repo/requirements.txt (line 15)) (1.3)\n",
      "Requirement already satisfied: repoze.sendmail>=4.1 in /home/matthew/Documents/pgrm/AIRC-ASR-Experimental/venv/lib/python3.10/site-packages (from pyramid-mailer->apex->-r ./repo/requirements.txt (line 15)) (4.4.1)\n",
      "Requirement already satisfied: transaction in /home/matthew/Documents/pgrm/AIRC-ASR-Experimental/venv/lib/python3.10/site-packages (from pyramid-mailer->apex->-r ./repo/requirements.txt (line 15)) (3.0.1)\n",
      "Requirement already satisfied: certifi>=2017.4.17 in /home/matthew/Documents/pgrm/AIRC-ASR-Experimental/venv/lib/python3.10/site-packages (from requests->transformers->-r ./repo/requirements.txt (line 3)) (2022.12.7)\n",
      "Requirement already satisfied: charset-normalizer<4,>=2 in /home/matthew/Documents/pgrm/AIRC-ASR-Experimental/venv/lib/python3.10/site-packages (from requests->transformers->-r ./repo/requirements.txt (line 3)) (3.0.1)\n",
      "Requirement already satisfied: urllib3<1.27,>=1.21.1 in /home/matthew/Documents/pgrm/AIRC-ASR-Experimental/venv/lib/python3.10/site-packages (from requests->transformers->-r ./repo/requirements.txt (line 3)) (1.26.14)\n",
      "Requirement already satisfied: idna<4,>=2.5 in /home/matthew/Documents/pgrm/AIRC-ASR-Experimental/venv/lib/python3.10/site-packages (from requests->transformers->-r ./repo/requirements.txt (line 3)) (3.4)\n",
      "Requirement already satisfied: MarkupSafe in /home/matthew/Documents/pgrm/AIRC-ASR-Experimental/venv/lib/python3.10/site-packages (from wtforms->apex->-r ./repo/requirements.txt (line 15)) (2.1.2)\n",
      "Requirement already satisfied: SQLAlchemy!=1.4.0,!=1.4.1,!=1.4.2,!=1.4.3,!=1.4.4,!=1.4.5,!=1.4.6,<2,>=1.1 in /home/matthew/Documents/pgrm/AIRC-ASR-Experimental/venv/lib/python3.10/site-packages (from zope.sqlalchemy->apex->-r ./repo/requirements.txt (line 15)) (1.4.46)\n",
      "Requirement already satisfied: greenlet!=0.4.17 in /home/matthew/Documents/pgrm/AIRC-ASR-Experimental/venv/lib/python3.10/site-packages (from SQLAlchemy!=1.4.0,!=1.4.1,!=1.4.2,!=1.4.3,!=1.4.4,!=1.4.5,!=1.4.6,<2,>=1.1->zope.sqlalchemy->apex->-r ./repo/requirements.txt (line 15)) (2.0.2)\n",
      "Requirement already satisfied: PasteDeploy>=2.0 in /home/matthew/Documents/pgrm/AIRC-ASR-Experimental/venv/lib/python3.10/site-packages (from plaster-pastedeploy->pyramid>1.1.2->apex->-r ./repo/requirements.txt (line 15)) (3.0.1)\n",
      "Requirement already satisfied: defusedxml in /home/matthew/Documents/pgrm/AIRC-ASR-Experimental/venv/lib/python3.10/site-packages (from python3-openid->velruse>=1.0.3->apex->-r ./repo/requirements.txt (line 15)) (0.7.1)\n",
      "Requirement already satisfied: oauthlib>=3.0.0 in /home/matthew/Documents/pgrm/AIRC-ASR-Experimental/venv/lib/python3.10/site-packages (from requests-oauthlib->velruse>=1.0.3->apex->-r ./repo/requirements.txt (line 15)) (3.2.2)\n",
      "\n",
      "\u001b[1m[\u001b[0m\u001b[34;49mnotice\u001b[0m\u001b[1;39;49m]\u001b[0m\u001b[39;49m A new release of pip available: \u001b[0m\u001b[31;49m22.3.1\u001b[0m\u001b[39;49m -> \u001b[0m\u001b[32;49m23.0\u001b[0m\n",
      "\u001b[1m[\u001b[0m\u001b[34;49mnotice\u001b[0m\u001b[1;39;49m]\u001b[0m\u001b[39;49m To update, run: \u001b[0m\u001b[32;49mpip install --upgrade pip\u001b[0m\n",
      "/home/matthew/Documents/pgrm/AIRC-ASR-Experimental/bidirectional_predictions/TransformerCVAE\n",
      "['repo/AIRC-ASR-Experimental/bidirectional_predictions/TransformerCVAE/', 'repo/AIRC-ASR-Experimental/bidirectional_predictions/TransformerCVAE/', 'repo/AIRC-ASR-Experimental/bidirectional_predictions/TransformerCVAE/', 'repo/AIRC-ASR-Experimental/bidirectional_predictions/TransformerCVAE/', 'repo/AIRC-ASR-Experimental/bidirectional_predictions/TransformerCVAE/', 'AIRC-ASR-Experimental/bidirectional_predictions/TransformerCVAE/', '/content/qnn-inference-examples', '/home/matthew/Documents/pgrm/AIRC-ASR-Experimental/bidirectional_predictions/TransformerCVAE', '/home/matthew/Documents/pgrm/AIRC-ASR-Experimental', '/usr/lib/python310.zip', '/usr/lib/python3.10', '/usr/lib/python3.10/lib-dynload', '', '/home/matthew/Documents/pgrm/AIRC-ASR-Experimental/venv/lib/python3.10/site-packages']\n"
     ]
    }
   ],
   "source": [
    "!mkdir repo && cd repo\n",
    "!git clone \"https://github.com/AIRC-ASR/AIRC-ASR-Experimental\" repo\n",
    "!pwd && ls\n",
    "!{sys.executable} -m pip install -r \"./repo/requirements.txt\"\n",
    "\n",
    "\n",
    "import sys, os\n",
    "sys.path.insert(0,'repo/AIRC-ASR-Experimental/bidirectional_predictions/TransformerCVAE/')"
   ]
  },
  {
   "cell_type": "code",
   "execution_count": 8,
   "metadata": {},
   "outputs": [
    {
     "name": "stderr",
     "output_type": "stream",
     "text": [
      "/home/matthew/Documents/pgrm/AIRC-ASR-Experimental/venv/lib/python3.10/site-packages/tqdm/auto.py:22: TqdmWarning: IProgress not found. Please update jupyter and ipywidgets. See https://ipywidgets.readthedocs.io/en/stable/user_install.html\n",
      "  from .autonotebook import tqdm as notebook_tqdm\n"
     ]
    }
   ],
   "source": [
    "from train_bidirectional import main\n",
    "\n",
    "main()"
   ]
  }
 ],
 "metadata": {
  "kernelspec": {
   "display_name": "venv",
   "language": "python",
   "name": "python3"
  },
  "language_info": {
   "codemirror_mode": {
    "name": "ipython",
    "version": 3
   },
   "file_extension": ".py",
   "mimetype": "text/x-python",
   "name": "python",
   "nbconvert_exporter": "python",
   "pygments_lexer": "ipython3",
   "version": "3.10.6"
  },
  "orig_nbformat": 4,
  "vscode": {
   "interpreter": {
    "hash": "67ac15f3b562f8a369e32143816d90bb478645f333ea27d23f6a68882860b845"
   }
  }
 },
 "nbformat": 4,
 "nbformat_minor": 2
}
